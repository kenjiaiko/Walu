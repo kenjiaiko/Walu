{
 "cells": [
  {
   "cell_type": "code",
   "execution_count": null,
   "id": "outer-closer",
   "metadata": {},
   "outputs": [],
   "source": [
    "!unzip -n access_random.pickle.zip"
   ]
  },
  {
   "cell_type": "code",
   "execution_count": null,
   "id": "hungarian-destruction",
   "metadata": {},
   "outputs": [],
   "source": [
    "!pip install numpy plotly sklearn"
   ]
  },
  {
   "cell_type": "code",
   "execution_count": null,
   "id": "planned-regular",
   "metadata": {},
   "outputs": [],
   "source": [
    "import pickle\n",
    "import urllib.parse"
   ]
  },
  {
   "cell_type": "code",
   "execution_count": null,
   "id": "apparent-calculator",
   "metadata": {},
   "outputs": [],
   "source": [
    "with open(\"access_random.pickle\", \"rb\") as f:\n",
    "    dataset = pickle.load(f)"
   ]
  },
  {
   "cell_type": "code",
   "execution_count": null,
   "id": "champion-rhythm",
   "metadata": {},
   "outputs": [],
   "source": [
    "len(dataset)"
   ]
  },
  {
   "cell_type": "code",
   "execution_count": null,
   "id": "hollow-cuisine",
   "metadata": {},
   "outputs": [],
   "source": [
    "# 1-10\n",
    "graph_N = 1\n",
    "\n",
    "# 100-10000\n",
    "dataset_size = 1000"
   ]
  },
  {
   "cell_type": "code",
   "execution_count": null,
   "id": "signed-jefferson",
   "metadata": {},
   "outputs": [],
   "source": [
    "import numpy as np\n",
    "from plotly.subplots import make_subplots\n",
    "import plotly.graph_objects as go\n",
    "from sklearn import (manifold, datasets, decomposition, ensemble,\n",
    "                     discriminant_analysis, random_projection)"
   ]
  },
  {
   "cell_type": "code",
   "execution_count": null,
   "id": "interested-simulation",
   "metadata": {},
   "outputs": [],
   "source": [
    "def make_dataset_for_visualize(ds):\n",
    "    X = []\n",
    "    for d in ds:\n",
    "        feature = [ 0 for i in range(0x7F - 0x20) ]\n",
    "        s = urllib.parse.unquote(d[1], \"utf-8\")\n",
    "        try:\n",
    "            s = s.split(\" \")[1]\n",
    "        except:\n",
    "            pass\n",
    "        for c in s:\n",
    "            if 0x20 <= ord(c) and ord(c) < 0x7F:\n",
    "                feature[ord(c) - 0x20] += 1\n",
    "        X.append(feature)\n",
    "    return np.array(X)"
   ]
  },
  {
   "cell_type": "code",
   "execution_count": null,
   "id": "chicken-clear",
   "metadata": {},
   "outputs": [],
   "source": [
    "def _plot(_2d, _3d, sz=600, title=\"\", target=None):\n",
    "  fig = make_subplots(rows=1, cols=2, \n",
    "                      specs=[[{\"type\": \"xy\"}, {\"type\": \"scene\"}]])\n",
    "  if type(target) != type(None):\n",
    "    d, _text = {}, []\n",
    "    for i, t in enumerate(set(target)):\n",
    "      d.setdefault(t, i)\n",
    "    for t in target:\n",
    "      _text.append(int(d[t]))\n",
    "    fig.add_trace(\n",
    "      go.Scatter(x=_2d[:, 0], y=_2d[:, 1], \n",
    "                mode='text', marker=dict(size=5), text=_text), \n",
    "      row=1, col=1)\n",
    "    fig.add_trace(\n",
    "      go.Scatter3d(x=_3d[:, 0], y=_3d[:, 1], z=_3d[:, 2], \n",
    "                  mode='text', marker=dict(size=1), text=_text),\n",
    "      row=1, col=2)\n",
    "  else:\n",
    "    fig.add_trace(\n",
    "      go.Scatter(x=_2d[:, 0], y=_2d[:, 1], \n",
    "                mode='markers', marker=dict(size=5)), \n",
    "      row=1, col=1)\n",
    "    fig.add_trace(\n",
    "      go.Scatter3d(x=_3d[:, 0], y=_3d[:, 1], z=_3d[:, 2], \n",
    "                  mode='markers', marker=dict(size=1)),\n",
    "      row=1, col=2)\n",
    "  fig.update_layout(height=sz, width=sz*2, title_text=title)\n",
    "  fig.show()"
   ]
  },
  {
   "cell_type": "code",
   "execution_count": null,
   "id": "cosmetic-montgomery",
   "metadata": {},
   "outputs": [],
   "source": [
    "for i in range(graph_N):\n",
    "    X = make_dataset_for_visualize(dataset[i][:dataset_size])\n",
    "    tsne = manifold.TSNE(n_components=2, init='pca', random_state=0)\n",
    "    tsne3d = manifold.TSNE(n_components=3, init='pca', random_state=0)\n",
    "    X_tsne = tsne.fit_transform(X)\n",
    "    X_tsne3d = tsne3d.fit_transform(X)\n",
    "    _plot(X_tsne, X_tsne3d, 500, \"Computing t-SNE embedding\", None)"
   ]
  },
  {
   "cell_type": "code",
   "execution_count": null,
   "id": "subject-dancing",
   "metadata": {},
   "outputs": [],
   "source": []
  }
 ],
 "metadata": {
  "kernelspec": {
   "display_name": "Python 3",
   "language": "python",
   "name": "python3"
  },
  "language_info": {
   "codemirror_mode": {
    "name": "ipython",
    "version": 3
   },
   "file_extension": ".py",
   "mimetype": "text/x-python",
   "name": "python",
   "nbconvert_exporter": "python",
   "pygments_lexer": "ipython3",
   "version": "3.6.8"
  }
 },
 "nbformat": 4,
 "nbformat_minor": 5
}
